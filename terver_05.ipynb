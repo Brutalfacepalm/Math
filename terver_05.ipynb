{
 "cells": [
  {
   "cell_type": "code",
   "execution_count": 1,
   "metadata": {},
   "outputs": [],
   "source": [
    "import numpy as np\n",
    "import scipy.stats as ss"
   ]
  },
  {
   "cell_type": "markdown",
   "metadata": {},
   "source": [
    "# Задача 1\n",
    "\n",
    "Утверждается, что шарики для подшипников, изготовленные автоматическим станком, имеют средний диаметр $17$ мм. Используя уровень значимости $0.025$ и правостороннюю критическую область, проверить данную гипотезу при условии, что в выборке из $100$ шариков средний диаметр оказался равным $17.5$ мм, а дисперсия известна и равна $4$ мм."
   ]
  },
  {
   "cell_type": "code",
   "execution_count": 2,
   "metadata": {},
   "outputs": [],
   "source": [
    "a = 17\n",
    "alpha = 0.025\n",
    "n = 100\n",
    "mean = 17.5\n",
    "sigma = np.sqrt(4)"
   ]
  },
  {
   "cell_type": "code",
   "execution_count": 3,
   "metadata": {},
   "outputs": [
    {
     "data": {
      "text/plain": [
       "2.5"
      ]
     },
     "execution_count": 3,
     "metadata": {},
     "output_type": "execute_result"
    }
   ],
   "source": [
    "T = (mean - a) / (sigma / np.sqrt(n))\n",
    "T"
   ]
  },
  {
   "cell_type": "markdown",
   "metadata": {},
   "source": [
    "Учитывая, что статистика $T$ имеет стандартное распределение и $\\alpha = 0.025$, т.е. это квантиль порядка $0.975$, то правосторонняя критическая область - $(2, {\\infty})$. В таком случае, $T = 2.5$ входит в критическую область и гипотеза $H_0$ должна быть отвергнута."
   ]
  },
  {
   "cell_type": "markdown",
   "metadata": {},
   "source": [
    "# Задача 2\n",
    "\n",
    "Известно, что генеральная совокупность распределена нормально с известным средним квадратическим отклонением $16$. Найти доверительный интервал для оценки математического ожидания $a$ с надёжностью $0.95$, если выборочное среднее равно $80$, а объём равен $256$."
   ]
  },
  {
   "cell_type": "code",
   "execution_count": 4,
   "metadata": {},
   "outputs": [],
   "source": [
    "sigma = 16\n",
    "alpha = 0.95\n",
    "mean = 80\n",
    "n = 256"
   ]
  },
  {
   "cell_type": "markdown",
   "metadata": {},
   "source": [
    "Так как среднее квадратическое $\\sigma$ распределения известна, то $t$ высчитывается для нормального распределения. "
   ]
  },
  {
   "cell_type": "code",
   "execution_count": 5,
   "metadata": {},
   "outputs": [
    {
     "data": {
      "text/plain": [
       "0.06270677794321385"
      ]
     },
     "execution_count": 5,
     "metadata": {},
     "output_type": "execute_result"
    }
   ],
   "source": [
    "t = ss.norm.ppf(1-alpha / 2)\n",
    "t"
   ]
  },
  {
   "cell_type": "code",
   "execution_count": 6,
   "metadata": {},
   "outputs": [
    {
     "data": {
      "text/plain": [
       "(79.93729322205678, 80.06270677794322)"
      ]
     },
     "execution_count": 6,
     "metadata": {},
     "output_type": "execute_result"
    }
   ],
   "source": [
    "a = (mean - t * sigma / np.sqrt(n),mean + t * sigma / np.sqrt(n))\n",
    "a"
   ]
  },
  {
   "cell_type": "markdown",
   "metadata": {},
   "source": [
    "Доверительный интервал для матожидания $a$ в таком случае будет $(79.9373, 80.0627)$"
   ]
  },
  {
   "cell_type": "markdown",
   "metadata": {},
   "source": [
    "# Задача 3\n",
    "\n",
    "Продавец утверждает, что средний вес пачки печенья составляет $200$ г. Из партии извлечена выборка из $10$ пачек. Вес каждой пачки составляет:\n",
    "\n",
    "$202, 203, 199, 197, 195, 201, 200, 204, 194, 190$\n",
    "\n",
    "Известно, что их веса распределены нормально. Верно ли утверждение продавца, если учитывать, что уровень значимости равен $1\\%$?"
   ]
  },
  {
   "cell_type": "code",
   "execution_count": 7,
   "metadata": {},
   "outputs": [],
   "source": [
    "a = 200\n",
    "n = 10\n",
    "X_ = np.array([202,203,199,197,195,201,200,204,194,190])\n",
    "alpha = 0.01"
   ]
  },
  {
   "cell_type": "markdown",
   "metadata": {},
   "source": [
    "Так как $\\sigma$ нормального распределения не известна, найдем несмещенную оценку среднего квадратического и среднее значение по выборке"
   ]
  },
  {
   "cell_type": "code",
   "execution_count": 8,
   "metadata": {},
   "outputs": [],
   "source": [
    "sigma_x = X_.std(ddof=1)\n",
    "mean = X_.mean()"
   ]
  },
  {
   "cell_type": "markdown",
   "metadata": {},
   "source": [
    "Статистика $T$ в таком случае высчитывается с учетом $\\sigma_X$"
   ]
  },
  {
   "cell_type": "code",
   "execution_count": 9,
   "metadata": {},
   "outputs": [
    {
     "data": {
      "text/plain": [
       "-1.0651074037450896"
      ]
     },
     "execution_count": 9,
     "metadata": {},
     "output_type": "execute_result"
    }
   ],
   "source": [
    "T = (mean - a) / (sigma_x / np.sqrt(n))\n",
    "T"
   ]
  },
  {
   "cell_type": "markdown",
   "metadata": {},
   "source": [
    "Так как статистика $T$ имеет распределение $t$-стьюдента, критическая область для него посчитаем с помощью `t.ppf` и $df = n - 1$"
   ]
  },
  {
   "cell_type": "code",
   "execution_count": 10,
   "metadata": {},
   "outputs": [
    {
     "data": {
      "text/plain": [
       "3.2498355440153697"
      ]
     },
     "execution_count": 10,
     "metadata": {},
     "output_type": "execute_result"
    }
   ],
   "source": [
    "t = ss.t.ppf(1 - alpha/2, df = n - 1)\n",
    "t"
   ]
  },
  {
   "cell_type": "markdown",
   "metadata": {},
   "source": [
    "Критическая область в таком случае будет $(\\infty, -3.2498) \\cup(3.2498, \\infty)$\n",
    "\n",
    "Теперь сравним значение статистики $T$ с критической областью"
   ]
  },
  {
   "cell_type": "code",
   "execution_count": 11,
   "metadata": {},
   "outputs": [
    {
     "name": "stdout",
     "output_type": "stream",
     "text": [
      "Утверждение продавца верно.\n"
     ]
    }
   ],
   "source": [
    "if T > -t and T < t:\n",
    "    print('Утверждение продавца верно.')\n",
    "else:\n",
    "    print('Продавец врет.')"
   ]
  }
 ],
 "metadata": {
  "kernelspec": {
   "display_name": "Python 3",
   "language": "python",
   "name": "python3"
  },
  "language_info": {
   "codemirror_mode": {
    "name": "ipython",
    "version": 3
   },
   "file_extension": ".py",
   "mimetype": "text/x-python",
   "name": "python",
   "nbconvert_exporter": "python",
   "pygments_lexer": "ipython3",
   "version": "3.7.3"
  }
 },
 "nbformat": 4,
 "nbformat_minor": 2
}
