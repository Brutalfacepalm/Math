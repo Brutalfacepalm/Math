{
 "cells": [
  {
   "cell_type": "code",
   "execution_count": 1,
   "metadata": {},
   "outputs": [],
   "source": [
    "import numpy as np\n",
    "import math"
   ]
  },
  {
   "cell_type": "markdown",
   "metadata": {},
   "source": [
    "# Задача 1\n",
    "\n",
    "Контрольная работа состоит из пяти вопросов. На каждый вопрос приведено четыре варианта ответа, один из которых правильный. \n",
    "Составьте закон распределения числа правильных ответов при простом угадывании. Найдите $M(X)$, $D(X)$."
   ]
  },
  {
   "cell_type": "code",
   "execution_count": 2,
   "metadata": {},
   "outputs": [],
   "source": [
    "q = 5\n",
    "a = 4"
   ]
  },
  {
   "cell_type": "code",
   "execution_count": 3,
   "metadata": {},
   "outputs": [],
   "source": [
    "def c_n_k(n,k):\n",
    "    return math.factorial(n)/(math.factorial(n-k)*math.factorial(k))"
   ]
  },
  {
   "cell_type": "markdown",
   "metadata": {},
   "source": [
    "Общее количество возможных комбинаций вариантов ответов:"
   ]
  },
  {
   "cell_type": "code",
   "execution_count": 4,
   "metadata": {},
   "outputs": [
    {
     "data": {
      "text/plain": [
       "15504.0"
      ]
     },
     "execution_count": 4,
     "metadata": {},
     "output_type": "execute_result"
    }
   ],
   "source": [
    "c_n_k(20,5)"
   ]
  },
  {
   "cell_type": "markdown",
   "metadata": {},
   "source": [
    "Вероятность если $5$ неправильных и $0$ правильных ответов"
   ]
  },
  {
   "cell_type": "code",
   "execution_count": 5,
   "metadata": {},
   "outputs": [
    {
     "data": {
      "text/plain": [
       "0.19369195046439627"
      ]
     },
     "execution_count": 5,
     "metadata": {},
     "output_type": "execute_result"
    }
   ],
   "source": [
    "c_n_k(15,5)*c_n_k(5,0)/c_n_k(20,5)"
   ]
  },
  {
   "cell_type": "markdown",
   "metadata": {},
   "source": [
    "Вероятность если $4$ неправильных и $1$ правильный ответов"
   ]
  },
  {
   "cell_type": "code",
   "execution_count": 6,
   "metadata": {},
   "outputs": [
    {
     "data": {
      "text/plain": [
       "0.44020897832817335"
      ]
     },
     "execution_count": 6,
     "metadata": {},
     "output_type": "execute_result"
    }
   ],
   "source": [
    "c_n_k(15,4)*c_n_k(5,1)/c_n_k(20,5)"
   ]
  },
  {
   "cell_type": "markdown",
   "metadata": {},
   "source": [
    "Вероятность если $3$ неправильных и $2$ правильныx ответов"
   ]
  },
  {
   "cell_type": "code",
   "execution_count": 7,
   "metadata": {},
   "outputs": [
    {
     "data": {
      "text/plain": [
       "0.29347265221878227"
      ]
     },
     "execution_count": 7,
     "metadata": {},
     "output_type": "execute_result"
    }
   ],
   "source": [
    "c_n_k(15,3)*c_n_k(5,2)/c_n_k(20,5)"
   ]
  },
  {
   "cell_type": "markdown",
   "metadata": {},
   "source": [
    "Вероятность если $2$ неправильных и $3$ правильных ответов"
   ]
  },
  {
   "cell_type": "code",
   "execution_count": 8,
   "metadata": {},
   "outputs": [
    {
     "data": {
      "text/plain": [
       "0.06772445820433437"
      ]
     },
     "execution_count": 8,
     "metadata": {},
     "output_type": "execute_result"
    }
   ],
   "source": [
    "c_n_k(15,2)*c_n_k(5,3)/c_n_k(20,5)"
   ]
  },
  {
   "cell_type": "markdown",
   "metadata": {},
   "source": [
    "Вероятность если $1$ неправильный и $4$ правильных ответов"
   ]
  },
  {
   "cell_type": "code",
   "execution_count": 9,
   "metadata": {},
   "outputs": [
    {
     "data": {
      "text/plain": [
       "0.004837461300309598"
      ]
     },
     "execution_count": 9,
     "metadata": {},
     "output_type": "execute_result"
    }
   ],
   "source": [
    "c_n_k(15,1)*c_n_k(5,4)/c_n_k(20,5)"
   ]
  },
  {
   "cell_type": "markdown",
   "metadata": {},
   "source": [
    "Вероятность если $0$ неправильных и $5$ правильных ответов"
   ]
  },
  {
   "cell_type": "code",
   "execution_count": 10,
   "metadata": {
    "scrolled": true
   },
   "outputs": [
    {
     "data": {
      "text/plain": [
       "6.449948400412796e-05"
      ]
     },
     "execution_count": 10,
     "metadata": {},
     "output_type": "execute_result"
    }
   ],
   "source": [
    "c_n_k(15,0)*c_n_k(5,5)/c_n_k(20,5)"
   ]
  },
  {
   "cell_type": "markdown",
   "metadata": {},
   "source": [
    "Закон распределения выглядит так:\n",
    "\n",
    "<table border=\"3\">\n",
    "    <tr>\n",
    "        <th>$X$</th>\n",
    "        <td>$$0$$</td>\n",
    "        <td>$$1$$</td>\n",
    "        <td>$$2$$</td>\n",
    "        <td>$$3$$</td>\n",
    "        <td>$$4$$</td>\n",
    "        <td>$$5$$</td>\n",
    "</tr>\n",
    "    <tr>\n",
    "        <th>$P$</th>\n",
    "        <td>$$0.1936$$</td>\n",
    "        <td>$$0.4402$$</td>\n",
    "        <td>$$0.2934$$</td>\n",
    "        <td>$$0.0677$$</td>\n",
    "        <td>$$0.0048$$</td>\n",
    "        <td>$$6.4499*10^-5$$</td>\n",
    "    </tr>\n",
    "</table>"
   ]
  },
  {
   "cell_type": "markdown",
   "metadata": {},
   "source": [
    "Математическое ожидание:"
   ]
  },
  {
   "cell_type": "code",
   "execution_count": 11,
   "metadata": {},
   "outputs": [
    {
     "data": {
      "text/plain": [
       "1.25"
      ]
     },
     "execution_count": 11,
     "metadata": {},
     "output_type": "execute_result"
    }
   ],
   "source": [
    "x = np.arange(0, 6)\n",
    "p = np.array([c_n_k(15,v)*c_n_k(5,i)/c_n_k(20,5) for i,v in enumerate(x[::-1])])\n",
    "m = np.dot(x, p)\n",
    "m"
   ]
  },
  {
   "cell_type": "markdown",
   "metadata": {},
   "source": [
    "Дисперсия:"
   ]
  },
  {
   "cell_type": "code",
   "execution_count": 12,
   "metadata": {},
   "outputs": [
    {
     "data": {
      "text/plain": [
       "0.7401315789473684"
      ]
     },
     "execution_count": 12,
     "metadata": {},
     "output_type": "execute_result"
    }
   ],
   "source": [
    "y = (x - m)**2\n",
    "d = y.dot(p)\n",
    "d"
   ]
  },
  {
   "cell_type": "markdown",
   "metadata": {},
   "source": [
    "# Задача 2\n",
    "\n",
    "Вероятность попадания в цель при одном выстреле равна $0.01$. \n",
    "Какова вероятность того, что число попаданий при $200$ выстрелах будет не менее $5$ и не более $10$?\n"
   ]
  },
  {
   "cell_type": "code",
   "execution_count": 13,
   "metadata": {},
   "outputs": [],
   "source": [
    "p = 0.01\n",
    "n = 200\n",
    "x = np.array([6,7,8,9])"
   ]
  },
  {
   "cell_type": "markdown",
   "metadata": {},
   "source": [
    "Посчитаем вероятности для каждого события, т.е. для $6$, $7$, $8$ и $9$ попаданий. Вероятность, что число попаданий не менее $5$ и не более $10$ будет равна сумме вероятностей наступления каждого из этих событий."
   ]
  },
  {
   "cell_type": "code",
   "execution_count": 14,
   "metadata": {},
   "outputs": [
    {
     "name": "stdout",
     "output_type": "stream",
     "text": [
      "0.015982765100330382\n"
     ]
    }
   ],
   "source": [
    "def bernulli(n, k, p):\n",
    "    return c_n_k(n, k)*p**k*(1-p)**(n-k)\n",
    "\n",
    "P = np.sum(np.array([bernulli(n, k, p) for k in x]))\n",
    "print(P)"
   ]
  },
  {
   "cell_type": "markdown",
   "metadata": {},
   "source": [
    "<table border=\"3\">\n",
    "    <tr>\n",
    "        <th>$X$</th>\n",
    "        <td>$$6$$</td>\n",
    "        <td>$$7$$</td>\n",
    "        <td>$$8$$</td>\n",
    "        <td>$$9$$</td>\n",
    "</tr>\n",
    "    <tr>\n",
    "        <th>$P$</th>\n",
    "        <td>$$0.01172736$$</td>\n",
    "        <td>$$0.00328299$$</td>\n",
    "        <td>$$0.00080002$$</td>\n",
    "        <td>$$0.00017239$$</td>\n",
    "    </tr>\n",
    "</table>"
   ]
  },
  {
   "cell_type": "markdown",
   "metadata": {},
   "source": [
    "# Задача 3\n",
    "\n",
    "В условиях предыдущей задачи сколько выстрелов нужно сделать чтобы быть уверенным с вероятностью $0.9$, \n",
    "что хотя бы $10$ раз будет совершено попадание?\n",
    "\n",
    "\n",
    "Подсказка. Как посчитать $P(X >= k)$ для величины $X$, имеющей распределение Пуассона? Здесь предстоит немножко покодить."
   ]
  },
  {
   "cell_type": "code",
   "execution_count": 15,
   "metadata": {},
   "outputs": [],
   "source": [
    "p = 0.01\n",
    "P = 0.9\n",
    "k = 10\n",
    "n = 200"
   ]
  },
  {
   "cell_type": "markdown",
   "metadata": {},
   "source": [
    "Событие, что попаданий будет хотя бы $10$, т.е. $k >= 10$, с вероятностью $0.9$ соответствует событию когда попаданий менее $10$ с вероятностью $0.1$"
   ]
  },
  {
   "cell_type": "code",
   "execution_count": 16,
   "metadata": {},
   "outputs": [
    {
     "data": {
      "text/plain": [
       "1421"
      ]
     },
     "execution_count": 16,
     "metadata": {},
     "output_type": "execute_result"
    }
   ],
   "source": [
    "x = np.arange(k)\n",
    "\n",
    "def puass(p, x, n):\n",
    "    a = p*n\n",
    "    al = np.array([(a**k)*(np.exp(-a))/(math.factorial(k)) for k in x])\n",
    "#     al = np.array([bernulli(n, k, p) for k in x]) при использовании Бернулли n = 1418\n",
    "    \n",
    "    P = np.sum(al)\n",
    "    return P\n",
    "\n",
    "\n",
    "def search_n(p, x, n):\n",
    "    P = 1\n",
    "    while P >= 0.1:\n",
    "        n += 1\n",
    "        P = puass(p, x, n)\n",
    "    return n\n",
    "\n",
    "\n",
    "search_n(p, x, n)"
   ]
  }
 ],
 "metadata": {
  "kernelspec": {
   "display_name": "Python 3",
   "language": "python",
   "name": "python3"
  },
  "language_info": {
   "codemirror_mode": {
    "name": "ipython",
    "version": 3
   },
   "file_extension": ".py",
   "mimetype": "text/x-python",
   "name": "python",
   "nbconvert_exporter": "python",
   "pygments_lexer": "ipython3",
   "version": "3.7.3"
  }
 },
 "nbformat": 4,
 "nbformat_minor": 2
}
