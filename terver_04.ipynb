{
 "cells": [
  {
   "cell_type": "code",
   "execution_count": 1,
   "metadata": {},
   "outputs": [],
   "source": [
    "import numpy as np\n",
    "import math\n",
    "import pandas as pd\n",
    "import seaborn as sns\n",
    "import scipy.stats as ss"
   ]
  },
  {
   "cell_type": "markdown",
   "metadata": {},
   "source": [
    "# Задача 1\n",
    "\n",
    "О непрерывной равномерно распределённой случайной величине $B$ известно, что её дисперсия равна $0.2$. Можно ли найти правую границу величины $B$ и её среднее значение зная, что левая граница равна $0.5$? Если да, найдите их."
   ]
  },
  {
   "cell_type": "code",
   "execution_count": 2,
   "metadata": {},
   "outputs": [
    {
     "name": "stdout",
     "output_type": "stream",
     "text": [
      "Правая граница для B равна -  2.049193338482967\n",
      "Математическое ожидание для B равно -  1.2745966692414834\n"
     ]
    }
   ],
   "source": [
    "d = 0.2\n",
    "a = 0.5\n",
    "\n",
    "b = math.sqrt(12*d)+a\n",
    "print('Правая граница для B равна - ', b)\n",
    "\n",
    "m = (b+a)/2 \n",
    "print('Математическое ожидание для B равно - ', m)"
   ]
  },
  {
   "cell_type": "markdown",
   "metadata": {},
   "source": [
    "$$D[X] = {{(b-a)^2}\\over{12}}$$\n",
    "\n",
    "\n",
    "$$M[X] = {{b+a}\\over{2}}$$"
   ]
  },
  {
   "cell_type": "markdown",
   "metadata": {},
   "source": [
    "# Задача 2\n",
    "\n",
    "На сколько сигм (средних квадратических отклонений) отклоняется рост человека, равный $190$ см, от математического ожидания роста в популяции, в которой $M(X) = 178$ и $D(X) = 25$?"
   ]
  },
  {
   "cell_type": "code",
   "execution_count": 3,
   "metadata": {},
   "outputs": [
    {
     "name": "stdout",
     "output_type": "stream",
     "text": [
      "Отклонение составляет -  2.4 сигм\n"
     ]
    }
   ],
   "source": [
    "x =  190\n",
    "m_x = 178\n",
    "d_x = 25\n",
    "a = m_x\n",
    "sigma = math.sqrt(d_x)\n",
    "\n",
    "\n",
    "\n",
    "print('Отклонение составляет - ', (x-a)/sigma, 'сигм')"
   ]
  },
  {
   "cell_type": "markdown",
   "metadata": {},
   "source": [
    "# Задача 3\n",
    "\n",
    "Рост взрослого населения города $X$ имеет нормальное распределение, причём, средний рост равен $174$ см, а среднее квадратическое отклонение равно $8$ см. С помощью правил стандартного отклонения, двух и трёх сигм посчитайте, какова вероятность того, что случайным образом выбранный взрослый человек имеет рост:\n",
    "\n",
    "* больше $182$ см?\n",
    "* больше $190$ см?\n",
    "* от $166$ см до $190$ см?\n",
    "* от $166$ см до $182$ см?\n",
    "* от $158$ см до $190$ см?\n",
    "* не выше $150$ см или не ниже $190$ см?\n",
    "* не выше $150$ см или не ниже $198$ см?\n",
    "* ниже $166$ см?"
   ]
  },
  {
   "cell_type": "code",
   "execution_count": 4,
   "metadata": {},
   "outputs": [],
   "source": [
    "a = 174\n",
    "sigma = 8\n",
    "\n",
    "standart_ = np.array([a - sigma, a + sigma])\n",
    "two_sigmas = np.array([a - 2 * sigma, a + 2 * sigma])\n",
    "three_sigmas = np.array([a - 3 * sigma, a + 3 * sigma])"
   ]
  },
  {
   "cell_type": "code",
   "execution_count": 5,
   "metadata": {},
   "outputs": [],
   "source": [
    "def between(dowm, up, x, turn):\n",
    "    if turn == '>':\n",
    "        if x>=dowm and x<up:\n",
    "            return True\n",
    "        else: \n",
    "            return False\n",
    "    if turn == '<':\n",
    "        if x>dowm and x<=up:\n",
    "            return True\n",
    "        else: \n",
    "            return False\n",
    "    if turn == '>=':\n",
    "        if x>=dowm and x<=up:\n",
    "            return True\n",
    "        else: \n",
    "            return False\n",
    "    if turn == '<=':\n",
    "        if x>=dowm and x<=up:\n",
    "            return True\n",
    "        else: \n",
    "            return False"
   ]
  },
  {
   "cell_type": "code",
   "execution_count": 6,
   "metadata": {},
   "outputs": [],
   "source": [
    "def pr_sector(x, turn, standart_ = standart_, two_sigmas=two_sigmas, three_sigmas=three_sigmas):\n",
    "    \n",
    "\n",
    "    if between(-np.inf, three_sigmas[0], x, turn):\n",
    "        pr_sector = 0\n",
    "    if between(three_sigmas[1], np.inf, x, turn):\n",
    "        pr_sector = 6\n",
    "    if between(three_sigmas[0], two_sigmas[0], x, turn):\n",
    "        pr_sector = 1\n",
    "    if between(two_sigmas[1], three_sigmas[1], x, turn):\n",
    "        pr_sector = 5\n",
    "    if between(two_sigmas[0], standart_[0], x, turn):\n",
    "        pr_sector = 2\n",
    "    if between(standart_[1], two_sigmas[1], x, turn):\n",
    "        pr_sector = 4\n",
    "    if between(standart_[0], standart_[1], x, turn):\n",
    "        pr_sector = 3\n",
    "        \n",
    "    return pr_sector"
   ]
  },
  {
   "cell_type": "code",
   "execution_count": 7,
   "metadata": {},
   "outputs": [],
   "source": [
    "def probability(x, turn_x, y=False, turn_y=False, if_or = False):\n",
    "    \n",
    "    prob_in_sector = np.array([0.15, 2.35, 13.5, 68, 13.5, 2.35, 0.15])\n",
    "    pr_sector_down = pr_sector(x, turn_x)\n",
    "    if y != False and turn_y != False:\n",
    "        pr_sector_up = pr_sector(y, turn_y)\n",
    "    \n",
    "    if if_or == False:\n",
    "        if y == False and turn_y == False:\n",
    "            if turn_x == '>':\n",
    "                pr = np.sum(prob_in_sector[pr_sector_down::])\n",
    "            elif turn_x == '<':\n",
    "                pr = np.sum(prob_in_sector[:pr_sector_down+1:])\n",
    "        else:\n",
    "            pr = np.sum(prob_in_sector[pr_sector_down:pr_sector_up+1:])\n",
    "    \n",
    "    elif  if_or == True:\n",
    "        pr = np.sum(prob_in_sector[:pr_sector_down+1:])+np.sum(prob_in_sector[pr_sector_up::])\n",
    "    \n",
    "    return pr"
   ]
  },
  {
   "cell_type": "code",
   "execution_count": 8,
   "metadata": {},
   "outputs": [
    {
     "name": "stdout",
     "output_type": "stream",
     "text": [
      "[166 182]\n",
      "[158 190]\n",
      "[150 198]\n"
     ]
    }
   ],
   "source": [
    "print(standart_)\n",
    "print(two_sigmas)\n",
    "print(three_sigmas)"
   ]
  },
  {
   "cell_type": "code",
   "execution_count": 9,
   "metadata": {},
   "outputs": [
    {
     "name": "stdout",
     "output_type": "stream",
     "text": [
      "Вероятность, что человек имеет рост больше 182 см - 16.0%\n"
     ]
    }
   ],
   "source": [
    "probability_ = probability(182, '>')\n",
    "print('Вероятность, что человек имеет рост {} - {}%'.format('больше 182 см', round(probability_, 2)))"
   ]
  },
  {
   "cell_type": "markdown",
   "metadata": {},
   "source": [
    "Пояснение: рост свыше $182$ см входит в диапазон $2\\sigma$ и далее справа, т.е. ${{100-68}\\over{2}}\\%$"
   ]
  },
  {
   "cell_type": "code",
   "execution_count": 10,
   "metadata": {},
   "outputs": [
    {
     "name": "stdout",
     "output_type": "stream",
     "text": [
      "Вероятность, что человек имеет рост больше 190 см - 2.5%\n"
     ]
    }
   ],
   "source": [
    "probability_ = probability(190, '>')\n",
    "print('Вероятность, что человек имеет рост {} - {}%'.format('больше 190 см', round(probability_, 2)))"
   ]
  },
  {
   "cell_type": "markdown",
   "metadata": {},
   "source": [
    "Пояснение: рост свыше $190$ см входит в диапазон $3\\sigma$ и далее справа, т.е. ${{100-95}\\over{2}}\\%$"
   ]
  },
  {
   "cell_type": "code",
   "execution_count": 11,
   "metadata": {},
   "outputs": [
    {
     "name": "stdout",
     "output_type": "stream",
     "text": [
      "Вероятность, что человек имеет рост от 166 до 190 см - 81.5%\n"
     ]
    }
   ],
   "source": [
    "probability_ = probability(166, '>', 190, '<')\n",
    "print('Вероятность, что человек имеет рост {} - {}%'.format('от 166 до 190 см', round(probability_, 2)))"
   ]
  },
  {
   "cell_type": "markdown",
   "metadata": {},
   "source": [
    "Пояснение: рост от $166$ до $190$ см входит в диапазон от стандартного отклонения до $2\\sigma$ справа, т.е. ${68+}{{95-68}\\over{2}}\\%$"
   ]
  },
  {
   "cell_type": "code",
   "execution_count": 12,
   "metadata": {},
   "outputs": [
    {
     "name": "stdout",
     "output_type": "stream",
     "text": [
      "Вероятность, что человек имеет рост от 166 до 182 см - 68.0%\n"
     ]
    }
   ],
   "source": [
    "probability_ = probability(166, '>', 182, '<')\n",
    "print('Вероятность, что человек имеет рост {} - {}%'.format('от 166 до 182 см', round(probability_, 2)))"
   ]
  },
  {
   "cell_type": "markdown",
   "metadata": {},
   "source": [
    "Пояснение: рост от $166$ до $182$ см входит в диапазон стандартного отклонения, т.е. $68\\%$"
   ]
  },
  {
   "cell_type": "code",
   "execution_count": 13,
   "metadata": {
    "scrolled": true
   },
   "outputs": [
    {
     "name": "stdout",
     "output_type": "stream",
     "text": [
      "Вероятность, что человек имеет рост от 158 до 190 см - 95.0%\n"
     ]
    }
   ],
   "source": [
    "probability_ = probability(158, '>', 190, '<')\n",
    "print('Вероятность, что человек имеет рост {} - {}%'.format('от 158 до 190 см', round(probability_, 2)))"
   ]
  },
  {
   "cell_type": "markdown",
   "metadata": {},
   "source": [
    "Пояснение: рост от $158$ до $190$ см входит в диапазон $2\\sigma$, т.е. $95\\%$"
   ]
  },
  {
   "cell_type": "code",
   "execution_count": 14,
   "metadata": {},
   "outputs": [
    {
     "name": "stdout",
     "output_type": "stream",
     "text": [
      "Вероятность, что человек имеет рост не выше 150 и не ниже 190 см - 18.5%\n"
     ]
    }
   ],
   "source": [
    "probability_ = probability(150, '<=', 190, '>=', if_or = True)\n",
    "print('Вероятность, что человек имеет рост {} - {}%'.format('не выше 150 и не ниже 190 см', round(probability_, 2)))"
   ]
  },
  {
   "cell_type": "markdown",
   "metadata": {},
   "source": [
    "Пояснение: рост не выше $150$ и не ниже $190$ см входит в диапазон $3\\sigma$ и далее слева и $2\\sigma$ и далее справа, т.е. ${{100-95}\\over{2}}+{{100-68}\\over{2}}\\%$"
   ]
  },
  {
   "cell_type": "code",
   "execution_count": 15,
   "metadata": {},
   "outputs": [
    {
     "name": "stdout",
     "output_type": "stream",
     "text": [
      "Вероятность, что человек имеет рост не выше 150 и не ниже 198 см - 5.0%\n"
     ]
    }
   ],
   "source": [
    "probability_ = probability(150, '<=', 198, '>=', if_or = True)\n",
    "print('Вероятность, что человек имеет рост {} - {}%'.format('не выше 150 и не ниже 198 см', round(probability_, 2)))"
   ]
  },
  {
   "cell_type": "markdown",
   "metadata": {},
   "source": [
    "Пояснение: рост не выше $150$ и не ниже $190$ см входит в диапазон $3\\sigma$ и далее слева и $3\\sigma$ и далее справа, т.е. ${{100-95}\\over{2}}+{{100-95}\\over{2}}\\%$"
   ]
  },
  {
   "cell_type": "code",
   "execution_count": 16,
   "metadata": {},
   "outputs": [
    {
     "name": "stdout",
     "output_type": "stream",
     "text": [
      "Вероятность, что человек имеет рост ниже 166 см - 16.0%\n"
     ]
    }
   ],
   "source": [
    "probability_ = probability(166, '<')\n",
    "print('Вероятность, что человек имеет рост {} - {}%'.format('ниже 166 см', round(probability_, 2)))"
   ]
  },
  {
   "cell_type": "markdown",
   "metadata": {},
   "source": [
    "Пояснение: рост ниже $166$ см входит в диапазон $2\\sigma$ и далее слева, т.е. ${{100-68}\\over{2}}\\%$"
   ]
  }
 ],
 "metadata": {
  "kernelspec": {
   "display_name": "Python 3",
   "language": "python",
   "name": "python3"
  },
  "language_info": {
   "codemirror_mode": {
    "name": "ipython",
    "version": 3
   },
   "file_extension": ".py",
   "mimetype": "text/x-python",
   "name": "python",
   "nbconvert_exporter": "python",
   "pygments_lexer": "ipython3",
   "version": "3.7.3"
  }
 },
 "nbformat": 4,
 "nbformat_minor": 2
}
