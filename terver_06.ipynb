{
 "cells": [
  {
   "cell_type": "code",
   "execution_count": 21,
   "metadata": {},
   "outputs": [],
   "source": [
    "import numpy as np\n",
    "import scipy.stats as ss"
   ]
  },
  {
   "cell_type": "markdown",
   "metadata": {},
   "source": [
    "# Задача 1\n",
    "\n",
    "Даны значения величины заработной платы заемщиков банка (*salary*) и значения их поведенческого кредитного скоринга (scoring):\n",
    "\n",
    "salary = $[35, 45, 190, 200, 40, 70, 54, 150, 120, 110]$\n",
    "scoring = $[401, 574, 874, 919, 459, 739, 653, 902, 746, 832]$\n",
    "\n",
    "Без использования сторонних библиотек (вроде *numpy*, *pandas* и др.) найдите:\n",
    "1. ковариацию (смещённую и несмещённую) этих двух величин,\n",
    "2. коэффициент корреляции Пирсона.\n",
    "\n",
    "Можно затем посчитать те же значения с использованием библиотек, чтобы проверить себя.\n"
   ]
  },
  {
   "cell_type": "code",
   "execution_count": 3,
   "metadata": {},
   "outputs": [],
   "source": [
    "salary = [35,45,190,200,40,70,54,150,120,110]\n",
    "scoring = [401,574,874,919,459,739,653,902,746,832]\n"
   ]
  },
  {
   "cell_type": "markdown",
   "metadata": {},
   "source": [
    "Посчитаем среднее"
   ]
  },
  {
   "cell_type": "code",
   "execution_count": 4,
   "metadata": {},
   "outputs": [
    {
     "data": {
      "text/plain": [
       "101.4"
      ]
     },
     "execution_count": 4,
     "metadata": {},
     "output_type": "execute_result"
    }
   ],
   "source": [
    "salary_mean = sum(salary)/len(salary)\n",
    "salary_mean"
   ]
  },
  {
   "cell_type": "code",
   "execution_count": 6,
   "metadata": {},
   "outputs": [
    {
     "data": {
      "text/plain": [
       "709.9"
      ]
     },
     "execution_count": 6,
     "metadata": {},
     "output_type": "execute_result"
    }
   ],
   "source": [
    "scoring_mean = sum(scoring)/len(scoring)\n",
    "scoring_mean"
   ]
  },
  {
   "cell_type": "markdown",
   "metadata": {},
   "source": [
    "Смещенная ковариация:"
   ]
  },
  {
   "cell_type": "code",
   "execution_count": 28,
   "metadata": {},
   "outputs": [
    {
     "data": {
      "text/plain": [
       "9157.84"
      ]
     },
     "execution_count": 28,
     "metadata": {},
     "output_type": "execute_result"
    }
   ],
   "source": [
    "temp = list(map(lambda x,b: x*b,[i-salary_mean for i in salary],[i-scoring_mean for i in scoring]))\n",
    "cov_n = sum(temp)/len(temp)\n",
    "cov_n"
   ]
  },
  {
   "cell_type": "markdown",
   "metadata": {},
   "source": [
    "Несмещенная ковариация:"
   ]
  },
  {
   "cell_type": "code",
   "execution_count": 29,
   "metadata": {},
   "outputs": [
    {
     "data": {
      "text/plain": [
       "10175.377777777778"
      ]
     },
     "execution_count": 29,
     "metadata": {},
     "output_type": "execute_result"
    }
   ],
   "source": [
    "temp = list(map(lambda x,b: x*b,[i-salary_mean for i in salary],[i-scoring_mean for i in scoring]))\n",
    "cov_n1 = sum(temp)/(len(temp)-1)\n",
    "cov_n1"
   ]
  },
  {
   "cell_type": "code",
   "execution_count": 56,
   "metadata": {},
   "outputs": [],
   "source": [
    "def std_nonumpy(x, mean):\n",
    "    N = 1/(len(x)-1)\n",
    "    \n",
    "    s = (N*sum([(i-mean)**2 for i in x]))**(0.5)\n",
    "    return s"
   ]
  },
  {
   "cell_type": "code",
   "execution_count": 57,
   "metadata": {},
   "outputs": [],
   "source": [
    "sigma_x = std_no_numpy(salary, salary_mean)\n",
    "sigma_y = std_no_numpy(scoring, scoring_mean)\n"
   ]
  },
  {
   "cell_type": "markdown",
   "metadata": {},
   "source": [
    "Коэффициент корреляции Пирсона:"
   ]
  },
  {
   "cell_type": "code",
   "execution_count": 58,
   "metadata": {},
   "outputs": [
    {
     "data": {
      "text/plain": [
       "0.8874900920739162"
      ]
     },
     "execution_count": 58,
     "metadata": {},
     "output_type": "execute_result"
    }
   ],
   "source": [
    "pirson = cov_n1/(sigma_x*sigma_y)\n",
    "pirson"
   ]
  },
  {
   "cell_type": "code",
   "execution_count": 59,
   "metadata": {},
   "outputs": [
    {
     "data": {
      "text/plain": [
       "0.8874900920739162"
      ]
     },
     "execution_count": 59,
     "metadata": {},
     "output_type": "execute_result"
    }
   ],
   "source": [
    "np.corrcoef(salary, scoring)[0][1]"
   ]
  },
  {
   "cell_type": "markdown",
   "metadata": {},
   "source": [
    "# Задача 2\n",
    "\n",
    "Измерены значения $IQ$ выборки студентов, обучающихся в местных технических вузах:\n",
    "\n",
    "$$131, 125, 115, 122, 131, 115, 107, 99, 125, 111$$\n",
    "\n",
    "Известно, что в генеральной совокупности $IQ$ распределен нормально. Найдите доверительный интервал для математического ожидания с надежностью $0.95$."
   ]
  },
  {
   "cell_type": "code",
   "execution_count": 69,
   "metadata": {},
   "outputs": [],
   "source": [
    "iq = np.array([131,125,115,122,131,115,107,99,125,111])\n",
    "alpha = 1-0.95\n",
    "n = len(iq)"
   ]
  },
  {
   "cell_type": "code",
   "execution_count": 74,
   "metadata": {},
   "outputs": [
    {
     "data": {
      "text/plain": [
       "(110.55608365158724, 125.64391634841274)"
      ]
     },
     "execution_count": 74,
     "metadata": {},
     "output_type": "execute_result"
    }
   ],
   "source": [
    "m = np.mean(iq)\n",
    "t = ss.t.ppf(1-alpha / 2, df=n-1)\n",
    "sigma = iq.std(ddof=1)\n",
    "a = (m - t * sigma / np.sqrt(n),m + t * sigma / np.sqrt(n))\n",
    "a"
   ]
  },
  {
   "cell_type": "markdown",
   "metadata": {},
   "source": [
    "\n",
    "# Задача 3\n",
    "\n",
    "Известно, что рост футболистов в сборной распределён нормально с известной дисперсией $25$. На выборке объёма $27$ выборочное среднее составило $174.2$. Найдите доверительный интервал для математического ожидания с надёжностью $0.95$.\n",
    "\n"
   ]
  },
  {
   "cell_type": "code",
   "execution_count": 75,
   "metadata": {},
   "outputs": [],
   "source": [
    "dx = 25\n",
    "n = 27\n",
    "m = 174.2\n",
    "alpha = 1- 0.95"
   ]
  },
  {
   "cell_type": "code",
   "execution_count": 78,
   "metadata": {},
   "outputs": [
    {
     "data": {
      "text/plain": [
       "(172.3140237765397, 176.08597622346028)"
      ]
     },
     "execution_count": 78,
     "metadata": {},
     "output_type": "execute_result"
    }
   ],
   "source": [
    "t = ss.norm.ppf(1-alpha/2)\n",
    "sigma = np.sqrt(dx)\n",
    "a = (m - t * sigma / np.sqrt(n),m + t * sigma / np.sqrt(n))\n",
    "a"
   ]
  },
  {
   "cell_type": "markdown",
   "metadata": {},
   "source": [
    "# Задача 4\n",
    "\n",
    "Выберите тему для проектной работы по курсу Теории вероятностей и математической статистики и напишите ее в комментарии к Практическому заданию."
   ]
  }
 ],
 "metadata": {
  "kernelspec": {
   "display_name": "Python 3",
   "language": "python",
   "name": "python3"
  },
  "language_info": {
   "codemirror_mode": {
    "name": "ipython",
    "version": 3
   },
   "file_extension": ".py",
   "mimetype": "text/x-python",
   "name": "python",
   "nbconvert_exporter": "python",
   "pygments_lexer": "ipython3",
   "version": "3.7.3"
  }
 },
 "nbformat": 4,
 "nbformat_minor": 2
}
