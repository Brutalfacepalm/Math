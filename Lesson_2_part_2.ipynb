{
 "cells": [
  {
   "cell_type": "code",
   "execution_count": 60,
   "metadata": {},
   "outputs": [],
   "source": [
    "import numpy as np\n",
    "import copy"
   ]
  },
  {
   "cell_type": "markdown",
   "metadata": {},
   "source": [
    "Все задания рекомендуется выполнять вручную, затем проверяя полученные результаты с использованием Numpy.\n",
    "\n"
   ]
  },
  {
   "cell_type": "code",
   "execution_count": 233,
   "metadata": {},
   "outputs": [],
   "source": [
    "def _det(a):\n",
    "    m = len(a)\n",
    "    n = len(a[0])\n",
    "    if m == n:\n",
    "        if m == 2:\n",
    "            det=a[0][0]*a[1][1]-a[0][1]*a[1][0]\n",
    "            return det\n",
    "        \n",
    "        else:\n",
    "            if m != 2:\n",
    "                a_1_j = a[0]\n",
    "                a = a[1::]\n",
    "                A = 0\n",
    "                for a_i_j, a_i_j_value in enumerate(a_1_j):\n",
    "                    \n",
    "                    M = [row[:a_i_j:]+row[a_i_j+1::] for row in a]\n",
    "                    det = _det(M)\n",
    "                    A += (-1)**(a_i_j)*a_i_j_value*det\n",
    "                return A\n",
    "    else:\n",
    "        print(f'Матрица не квадратная, определителя нет.')"
   ]
  },
  {
   "cell_type": "code",
   "execution_count": 234,
   "metadata": {
    "scrolled": true
   },
   "outputs": [],
   "source": [
    "a = [[4, 2, 3, 12], [0, 0, 1, 8], [0, 0, 9, 6], [0, 0, 0, 3]]\n",
    "_a = copy.copy(a)"
   ]
  },
  {
   "cell_type": "code",
   "execution_count": 237,
   "metadata": {},
   "outputs": [
    {
     "name": "stdout",
     "output_type": "stream",
     "text": [
      "0\n"
     ]
    }
   ],
   "source": [
    "det = _det(_a)\n",
    "print(det)"
   ]
  },
  {
   "cell_type": "code",
   "execution_count": 244,
   "metadata": {
    "scrolled": true
   },
   "outputs": [
    {
     "name": "stdout",
     "output_type": "stream",
     "text": [
      "[[ 4  2  3 12]\n",
      " [ 0  0  1  8]\n",
      " [ 0  0  9  6]\n",
      " [ 0  0  0  3]]\n",
      "0.0\n"
     ]
    }
   ],
   "source": [
    "A = np.array(a)\n",
    "print(A)\n",
    "_detA = np.linalg.det(A)\n",
    "print(_detA)"
   ]
  },
  {
   "cell_type": "markdown",
   "metadata": {},
   "source": [
    "\n",
    "1. Вычислить определитель:\n",
    "\n",
    "a)\n",
    "\n",
    "$$\\begin{vmatrix} sinx & -cosx\\\\ cosx & sinx \\end{vmatrix} = sinx^2 + cosx^2 = 1$$\n",
    "\n",
    "б)\n",
    "\n",
    "$$\\begin{vmatrix} 4 & 2 & 3\\\\ 0 & 5 & 1\\\\ 0 & 0 & 9 \\end{vmatrix} = 4\\cdot5\\cdot9 = 180$$\n",
    "\n",
    "в)\n",
    "\n",
    "$$\\begin{vmatrix} 1 & 2 & 3\\\\ 4 & 5 & 6\\\\ 7 & 8 & 9 \\end{vmatrix} = 1\\cdot(5\\cdot9-6\\cdot8)-2\\cdot(4\\cdot9-6\\cdot7)+3\\cdot(4\\cdot8-5\\cdot7) = 0$$\n"
   ]
  },
  {
   "cell_type": "markdown",
   "metadata": {},
   "source": [
    "2. Определитель матрицы $A$ равен $4$. Найти:\n",
    "\n",
    "а) $det(A^{2}) = det(A)\\cdot det(A) = det(A)^2 = 16$;\n",
    "\n",
    "б) $det(A^{T}) = det(A) = 4$;\n",
    "\n",
    "в) $det(2A) = 2det(A)$ зависит от размерности матрицы $A$. Определитель матрицы равен $2^n\\cdot det(A)$, где $n$ - порядок матрицы $A$."
   ]
  },
  {
   "cell_type": "markdown",
   "metadata": {},
   "source": [
    "3. Доказать, что матрица\n",
    "\n",
    "$$\\begin{pmatrix} -2 & 7 & -3\\\\ 4 & -14 & 6\\\\ -3 & 7 & 13 \\end{pmatrix}$$\n",
    "\n",
    "вырожденная.\n"
   ]
  },
  {
   "cell_type": "markdown",
   "metadata": {},
   "source": [
    "Матрица вырожденная, если ее определитель равен 0.\n",
    "Найдем определитель матрицы\n",
    "$$\\begin{pmatrix} -2 & 7 & -3\\\\ 4 & -14 & 6\\\\ -3 & 7 & 13 \\end{pmatrix} = 2\\cdot(14\\cdot13+7\\cdot6)-7\\cdot(4\\cdot13+6\\cdot3)-3\\cdot(4\\cdot7-14\\cdot3) = 448-490+42=0\n",
    "$$"
   ]
  },
  {
   "cell_type": "markdown",
   "metadata": {},
   "source": [
    "4. Найти ранг матрицы:\n",
    "\n",
    "а) $\\begin{pmatrix} 1 & 2 & 3\\\\ 1 & 1 & 1\\\\ 2 & 3 & 4 \\end{pmatrix}$ \n",
    "\n",
    "Определитель исходной матрицы равен $0$. Вычеркнем первую строку и первый столбец, получим минор второго порядка $\\begin{vmatrix} 1 & 1 \\\\ 3 & 4\\end{vmatrix}$, определитель которого не равен $0$, следовательно ранг матрицы равен $2$.\n",
    "\n",
    "б) $\\begin{pmatrix} 0 & 0 & 2 & 1\\\\ 0 & 0 & 2 & 2\\\\ 0 & 0 & 4 & 3\\\\ 2 & 3 & 5 & 6 \\end{pmatrix}$ \n",
    "\n",
    "Определитель исходной матрицы равен $0$. Вычеркнем первую строку и первый столбец, получим минор третьего порядка $\\begin{vmatrix} 0 & 2 & 2 \\\\ 0 & 4 & 3 \\\\ 3 & 5 & 6\\end{vmatrix}$, определитель которого не равен $0$, следовательно ранг матрицы равен $3$. "
   ]
  }
 ],
 "metadata": {
  "kernelspec": {
   "display_name": "Python 3",
   "language": "python",
   "name": "python3"
  },
  "language_info": {
   "codemirror_mode": {
    "name": "ipython",
    "version": 3
   },
   "file_extension": ".py",
   "mimetype": "text/x-python",
   "name": "python",
   "nbconvert_exporter": "python",
   "pygments_lexer": "ipython3",
   "version": "3.7.3"
  }
 },
 "nbformat": 4,
 "nbformat_minor": 2
}
