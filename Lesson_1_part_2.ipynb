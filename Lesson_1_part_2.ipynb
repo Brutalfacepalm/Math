{
 "cells": [
  {
   "cell_type": "code",
   "execution_count": 1,
   "metadata": {},
   "outputs": [],
   "source": [
    "import numpy as np"
   ]
  },
  {
   "cell_type": "markdown",
   "metadata": {},
   "source": [
    "__1__. Найти скалярное произведение векторов $x, y \\in \\mathbb{R}$:\n",
    "\n",
    "а) $x=(0,-3, 6),~y=(-4, 7, 9);$\n",
    "\n",
    "б) $x=(7, -4, 0, 1),~y=(-3, 1, 11, 2).$"
   ]
  },
  {
   "cell_type": "code",
   "execution_count": 10,
   "metadata": {},
   "outputs": [],
   "source": [
    "x_a = np.array([0, -3, 6])\n",
    "y_a = np.array([-4, 7, 9])\n",
    "x_b = np.array([7, -4, 0, 1])\n",
    "y_b = np.array([-3, 1, 11, 2])"
   ]
  },
  {
   "cell_type": "code",
   "execution_count": 13,
   "metadata": {},
   "outputs": [
    {
     "name": "stdout",
     "output_type": "stream",
     "text": [
      "Скалярное произведение векторов равно задания a: 33\n",
      "Скалярное произведение векторов равно задания б: -23\n"
     ]
    }
   ],
   "source": [
    "xy_a = 0*(-4)+(-3)*7+6*9\n",
    "print(f'Скалярное произведение векторов равно задания a: {xy_a}')\n",
    "xy_b = 7*(-3)+(-4)*1+0*11+1*2\n",
    "print(f'Скалярное произведение векторов равно задания б: {xy_b}')"
   ]
  },
  {
   "cell_type": "code",
   "execution_count": 14,
   "metadata": {},
   "outputs": [
    {
     "name": "stdout",
     "output_type": "stream",
     "text": [
      "Скалярное произведение векторов равно задания а: 33\n",
      "Скалярное произведение векторов равно задания б: -23\n"
     ]
    }
   ],
   "source": [
    "print(f'Скалярное произведение векторов равно задания а: {x_a.dot(y_a)}')\n",
    "print(f'Скалярное произведение векторов равно задания б: {x_b.dot(y_b)}')"
   ]
  },
  {
   "cell_type": "markdown",
   "metadata": {},
   "source": [
    "__2__. Найти нормы векторов $(4, 2, 4)$ и $(12, 3, 4)$ и угол между ними."
   ]
  },
  {
   "cell_type": "code",
   "execution_count": 15,
   "metadata": {},
   "outputs": [],
   "source": [
    "x = np.array([4,2,4])\n",
    "y = np.array([12,3,4])"
   ]
  },
  {
   "cell_type": "code",
   "execution_count": 23,
   "metadata": {},
   "outputs": [],
   "source": [
    "xy=x.dot(y)\n",
    "norm_x_e = (4**2+2**2+4**2)**0.5\n",
    "norm_y_e = np.linalg.norm(y, ord=2)\n",
    "cos_alpha = xy/(norm_x_e*norm_y_e)\n",
    "alpha = np.arccos(cos_alpha)"
   ]
  },
  {
   "cell_type": "code",
   "execution_count": 24,
   "metadata": {},
   "outputs": [
    {
     "name": "stdout",
     "output_type": "stream",
     "text": [
      "Евклидова норма вектора X равна 6.0\n",
      "Евклидова норма вектора Y равна 13.0\n",
      "Угол между векторами равен 0.45687400353266105\n"
     ]
    }
   ],
   "source": [
    "print(f'Евклидова норма вектора X равна {norm_x_e}')\n",
    "print(f'Евклидова норма вектора Y равна {norm_y_e}')\n",
    "print(f'Угол между векторами равен {alpha}')"
   ]
  },
  {
   "cell_type": "markdown",
   "metadata": {},
   "source": [
    "__3__. Будет ли линейное пространство евклидовым, если за скалярное произведение принять:\n",
    "\n",
    "а) произведение длин векторов;\n",
    "\n",
    "б) утроенное обычное скалярное произведение векторов?"
   ]
  },
  {
   "cell_type": "markdown",
   "metadata": {},
   "source": [
    "a) Для евклидова пространства справедливо утверждать, что скалярное произведение векторов равно произведению длин этих векторов на косинус угла между ними:\n",
    "$$(x, y) = |x|\\cdot|y|\\cdot cos\\alpha.$$\n",
    "Отсюда следует, что пространство будет евклидовым, так как косинус угла может быть равен 1. Вектора будут лежать на одной прямой и направлены в одну сторону.\n",
    "\n",
    "б) Пространство не будет евклидовым, так как скалярное произведение векторов в евклидовом пространстве равно:\n",
    "$$(x, y) = a_1b_1 + a_2b_2 + ... + a_nb_n$$\n",
    "Если утроить произведение то получится $3(x,y)$, в таком случае для евклидова пространства должно выполняться равенство $$3(x,y) = (3x, y)$$\n",
    "Очевидно, оно выполняться не будет."
   ]
  },
  {
   "cell_type": "markdown",
   "metadata": {},
   "source": [
    "__4__. Какие из нижеперечисленных векторов образуют ортонормированный базис в линейном пространстве $\\mathbb{R}^{3}$:\n",
    "\n",
    "а) $(1,0,0),(0,0,1);$\n",
    "    \n",
    "    Очевидно что нет, так как предполагается наличие трех базисных векторов.\n",
    "    \n",
    "б) $(1/\\sqrt{2},-1/\\sqrt{2},0),(1/\\sqrt{2},1/\\sqrt{2},0), (0,0,1);$ \n",
    "    "
   ]
  },
  {
   "cell_type": "code",
   "execution_count": 25,
   "metadata": {},
   "outputs": [
    {
     "name": "stdout",
     "output_type": "stream",
     "text": [
      "Базис является ортонормированным.\n"
     ]
    }
   ],
   "source": [
    "i = 1/(2)**0.5\n",
    "x = np.array([i, -i, 0])\n",
    "y = np.array([i, i, 0])\n",
    "z = np.array([0, 0, 1])\n",
    "xx = x.dot(x)\n",
    "yy = y.dot(y)\n",
    "zz = z.dot(z)\n",
    "\n",
    "xy = x.dot(y)\n",
    "xz = x.dot(z)\n",
    "yz = y.dot(z)\n",
    "\n",
    "if xx and yy and zz and not xy and not xz and not yz:\n",
    "    print(f'Базис является ортонормированным.')\n",
    "else:\n",
    "    print(f'Базис НЕ является ортонормированным.')"
   ]
  },
  {
   "cell_type": "markdown",
   "metadata": {},
   "source": [
    "в) $(1/2, -1/2, 0), (0, 1/2, 1/2), (0,0,1);$\n",
    "    \n",
    "    Нет, так как ортонормированный базис должен состоять из векторов единичной длины.\n",
    "    \n",
    "г) $(1,0,0),(0,1,0),(0,0,1)?$\n",
    "    \n",
    "    Да, удовлетворяет определению ортонормированного базиса. \n"
   ]
  }
 ],
 "metadata": {
  "kernelspec": {
   "display_name": "Python 3",
   "language": "python",
   "name": "python3"
  },
  "language_info": {
   "codemirror_mode": {
    "name": "ipython",
    "version": 3
   },
   "file_extension": ".py",
   "mimetype": "text/x-python",
   "name": "python",
   "nbconvert_exporter": "python",
   "pygments_lexer": "ipython3",
   "version": "3.7.3"
  }
 },
 "nbformat": 4,
 "nbformat_minor": 2
}
