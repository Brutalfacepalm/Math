{
 "cells": [
  {
   "cell_type": "code",
   "execution_count": 216,
   "metadata": {},
   "outputs": [],
   "source": [
    "import numpy as np\n",
    "import math\n",
    "import pandas as pd\n",
    "import seaborn as sns"
   ]
  },
  {
   "cell_type": "markdown",
   "metadata": {},
   "source": [
    "# Задача 1\n",
    "\n",
    "Даны значения зарплат из выборки выпускников:\n",
    "\n",
    "$100$, $80$, $75$, $77$, $89$, $33$, $45$, $25$, $65$, $17$, $30$, $230$, $24$, $57$, $55$, $70$, $75$, $65$, $84$, $90$, $150$\n",
    "\n",
    "Своими руками (т.е. без использования статистических функций вроде *mean*, *std*, *var*) посчитать среднее арифметическое, смещённую и несмещённую оценки дисперсии, среднее квадратичное отклонение для данной выборки.\n",
    "\n",
    "Можно затем посчитать те же значения с использованием статистических функций, чтобы проверить себя."
   ]
  },
  {
   "cell_type": "code",
   "execution_count": 253,
   "metadata": {},
   "outputs": [],
   "source": [
    "sal = np.array([100 , 80, 75, 77, 89, 33, 45, 25, 65, 17, 30, 230, 24, 57, 55, 70, 75, 65, 84, 90, 150, 100])\n",
    "m = len(sal)\n",
    "\n",
    "x_ = np.sum(sal)/m\n",
    "\n",
    "d_2 = np.sum((sal-x_)**2)/m\n",
    "d_unbiased_2 = np.sum((sal-x_)**2)/(m-1)\n",
    "\n",
    "d = np.sqrt(d_2)\n",
    "d_unbiased = np.sqrt(d_unbiased_2)"
   ]
  },
  {
   "cell_type": "code",
   "execution_count": 3,
   "metadata": {},
   "outputs": [
    {
     "name": "stdout",
     "output_type": "stream",
     "text": [
      "Среднее арифметическое - 74.36363636363636 (проверка - 74.36363636363636)\n",
      "Смещенная дисперсия - 2069.3223140495866 (проверка - 2069.3223140495866)\n",
      "Несмещенная дисперсия - 2167.8614718614717 (проверка - 2167.8614718614717)\n",
      "Смещенное среднее квадратичное отклонение - 45.4898045066099 (проверка - 45.4898045066099)\n",
      "Несмещенное среднее квадратичное отклонение - 46.56029931026509 (проверка - 46.56029931026509)\n"
     ]
    }
   ],
   "source": [
    "print('Среднее арифметическое - {} (проверка - {})'.format(x_, np.mean(sal)))\n",
    "print('Смещенная дисперсия - {} (проверка - {})'.format(d_2, np.var(sal)))\n",
    "print('Несмещенная дисперсия - {} (проверка - {})'.format(d_unbiased_2, np.var(sal, ddof=1)))\n",
    "print('Смещенное среднее квадратичное отклонение - {} (проверка - {})'.format(d, np.std(sal)))\n",
    "print('Несмещенное среднее квадратичное отклонение - {} (проверка - {})'.format(d_unbiased, np.std(sal, ddof=1)))"
   ]
  },
  {
   "cell_type": "markdown",
   "metadata": {},
   "source": [
    "# Задача 2\n",
    "\n",
    "Для выборки из задачи 1 найти (также без использования статистических функций) медиану, первый и третий квартили, интерквартильное расстояние. Найти выборсы в выборке, используя для этого \"усы\" из *boxplot*.\n",
    "\n",
    "В этой задаче неоднозначности в вычислении квантилей можно разрешать любым способом."
   ]
  },
  {
   "cell_type": "code",
   "execution_count": 257,
   "metadata": {
    "scrolled": false
   },
   "outputs": [
    {
     "name": "stdout",
     "output_type": "stream",
     "text": [
      "Медиана по функции -  72.5\n",
      "Первый квартиль по функции -  47.5\n",
      "Третий квартиль по функции -  87.75\n",
      "Интерквартильное расстояние по функции -  [47.5  87.75]\n"
     ]
    }
   ],
   "source": [
    "print('Медиана по функции - ', np.median(sal))\n",
    "print('Первый квартиль по функции - ', np.quantile(sal, q=0.25))\n",
    "print('Третий квартиль по функции - ', np.quantile(sal, q=0.75))\n",
    "print('Интерквартильное расстояние по функции - ', np.quantile(sal, [0.25, 0.75]))"
   ]
  },
  {
   "cell_type": "code",
   "execution_count": 247,
   "metadata": {},
   "outputs": [
    {
     "name": "stdout",
     "output_type": "stream",
     "text": [
      "Медиана без функции -  70.0\n",
      "Процент зарплат не больше медианного значения -  52.38\n",
      "Процент зарплат не меньше медианного значения -  52.38\n"
     ]
    }
   ],
   "source": [
    "sal=sorted(sal)\n",
    "\n",
    "med_low = math.ceil(len(sal)/2-0.5)\n",
    "med_high = math.ceil(len(sal)/2+0.5)\n",
    "med = sal[med_low:med_high:]\n",
    "med = np.sum(med)/len(med)\n",
    "\n",
    "ch_1 = (sal <= med).sum()/len(sal)\n",
    "ch_2 = (sal >= med).sum()/len(sal)\n",
    "\n",
    "print('Медиана без функции - ', med)\n",
    "print('Процент зарплат не больше медианного значения - ', round(ch_1*100, 2))\n",
    "print('Процент зарплат не меньше медианного значения - ', round(ch_2*100, 2))"
   ]
  },
  {
   "cell_type": "code",
   "execution_count": 248,
   "metadata": {},
   "outputs": [
    {
     "name": "stdout",
     "output_type": "stream",
     "text": [
      "Певый квартиль без функции -  45.0\n",
      "Процент зарплат не больше значения первого квартиля -  28.57\n",
      "Процент зарплат не меньше значения первого квартиля -  76.19\n"
     ]
    }
   ],
   "source": [
    "quart_1_low = math.ceil(len(sal)/4-0.5)\n",
    "quart_1_high = math.ceil(len(sal)/4+0.5)\n",
    "quart_1 = sal[quart_1_low:quart_1_high:]\n",
    "quart_1 = np.sum(quart_1)/len(quart_1)\n",
    "\n",
    "ch_3 = (sal <= quart_1).sum()/len(sal)\n",
    "ch_4 = (sal >= quart_1).sum()/len(sal)\n",
    "\n",
    "print('Певый квартиль без функции - ', quart_1)\n",
    "print('Процент зарплат не больше значения первого квартиля - ', round(ch_3*100, 2))\n",
    "print('Процент зарплат не меньше значения первого квартиля - ', round(ch_4*100, 2))"
   ]
  },
  {
   "cell_type": "code",
   "execution_count": 250,
   "metadata": {},
   "outputs": [
    {
     "name": "stdout",
     "output_type": "stream",
     "text": [
      "Третий квартиль без функции -  84.0\n",
      "Процент зарплат не больше значения третьего квартиля -  76.19\n",
      "Процент зарплат не меньше значения третьего квартиля -  28.57\n"
     ]
    }
   ],
   "source": [
    "quart_3_low = math.ceil(math.ceil(len(sal)//2*3-0.5)//2-0.5)\n",
    "quart_3_high = math.ceil(math.ceil(len(sal)//2*3+0.5)//2+0.5)\n",
    "quart_3 = sal[quart_3_low:quart_3_high:]\n",
    "quart_3 = np.sum(quart_3)/len(quart_3)\n",
    "\n",
    "ch_5 = (sal <= quart_3).sum()/len(sal)\n",
    "ch_6 = (sal >= quart_3).sum()/len(sal)\n",
    "\n",
    "print('Третий квартиль без функции - ', quart_3)\n",
    "print('Процент зарплат не больше значения третьего квартиля - ', round(ch_5*100, 2))\n",
    "print('Процент зарплат не меньше значения третьего квартиля - ', round(ch_6*100, 2))"
   ]
  },
  {
   "cell_type": "code",
   "execution_count": 252,
   "metadata": {},
   "outputs": [
    {
     "name": "stdout",
     "output_type": "stream",
     "text": [
      "Интерквартильно расстояние без функции -  [45. 84.]\n"
     ]
    }
   ],
   "source": [
    "inter_quart = np.array([quart_1,quart_3])\n",
    "\n",
    "print('Интерквартильно расстояние без функции - ', inter_quart)"
   ]
  },
  {
   "cell_type": "markdown",
   "metadata": {},
   "source": [
    "*Автоматизировать поиск медианы и квартилей так, чтобы они равнялись результатам, полученным с помощью функций, без нагромождения условий чот не получилось. Но я запускал бесконечный цикл с рандомными значениями от 0 до 1000 по 20, 22, 50, 100, 500 и проверку на \"хотя бы\", в ходе которой результаты функций ее не проходили, а вручную - все ок. Т.е. иногда  значения, например первого квартиля, разделяли на < 75% справа. Если добавить к исходному списку одно значение равное 100, то медиана через функцию будет 47,5 и тогда список делится на ~27 и ~73 процента. Как то так*"
   ]
  },
  {
   "cell_type": "code",
   "execution_count": 258,
   "metadata": {},
   "outputs": [
    {
     "data": {
      "text/plain": [
       "<matplotlib.axes._subplots.AxesSubplot at 0x214f59d05c0>"
      ]
     },
     "execution_count": 258,
     "metadata": {},
     "output_type": "execute_result"
    },
    {
     "data": {
      "image/png": "[encoded data removed]",
      "text/plain": [
       "<Figure size 432x288 with 1 Axes>"
      ]
     },
     "metadata": {
      "needs_background": "light"
     },
     "output_type": "display_data"
    }
   ],
   "source": [
    "df = pd.DataFrame(sal, columns=['Salary'])\n",
    "sns.boxplot(data=df,orient='h', width=0.2, linewidth=2)"
   ]
  },
  {
   "cell_type": "markdown",
   "metadata": {},
   "source": [
    "*seabotn покрасивше*"
   ]
  },
  {
   "cell_type": "markdown",
   "metadata": {},
   "source": [
    "# Задача 3\n",
    "\n",
    "В университет на факультеты $A$ и $B$ поступило равное количество студентов, а на факультет $C$ студентов поступило столько же, сколько на $A$ и $B$ вместе. Вероятность того, что студент факультета $A$ сдаст первую сессию, равна $0.8$. Для студента факультета $B$ эта вероятность равна $0.7$, а для студента факультета $C - 0.9$. Студент сдал первую сессию. Какова вероятность, что он учится: a) на факультете $A$? б) на факультете $B$? в) на факультете $C$?\n",
    "\n",
    "*Замечание: да, эта задача не на тему описательных статистик, но тема важная, и её стоит иногда освежать в памяти.*"
   ]
  },
  {
   "cell_type": "code",
   "execution_count": 259,
   "metadata": {},
   "outputs": [
    {
     "name": "stdout",
     "output_type": "stream",
     "text": [
      "Вероятность что сессию сдал студент факультета A -  24.24\n",
      "Вероятность что сессию сдал студент факультета B -  21.21\n",
      "Вероятность что сессию сдал студент факультета C -  54.55\n"
     ]
    }
   ],
   "source": [
    "P_a = 0.8\n",
    "P_b = 0.7\n",
    "P_c = 0.9\n",
    "P_A = 1\n",
    "P_B = P_a+P_b+P_c*2\n",
    "\n",
    "P_BA_a=P_a/P_B\n",
    "P_BA_b=P_b/P_B\n",
    "P_BA_c=P_c*2/P_B\n",
    "\n",
    "print('Вероятность что сессию сдал студент факультета A - ', round(P_BA_a*100, 2))\n",
    "print('Вероятность что сессию сдал студент факультета B - ', round(P_BA_b*100, 2))\n",
    "print('Вероятность что сессию сдал студент факультета C - ', round(P_BA_c*100, 2))\n"
   ]
  }
 ],
 "metadata": {
  "kernelspec": {
   "display_name": "Python 3",
   "language": "python",
   "name": "python3"
  },
  "language_info": {
   "codemirror_mode": {
    "name": "ipython",
    "version": 3
   },
   "file_extension": ".py",
   "mimetype": "text/x-python",
   "name": "python",
   "nbconvert_exporter": "python",
   "pygments_lexer": "ipython3",
   "version": "3.7.3"
  }
 },
 "nbformat": 4,
 "nbformat_minor": 2
}
