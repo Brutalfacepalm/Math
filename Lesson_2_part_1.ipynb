{
 "cells": [
  {
   "cell_type": "code",
   "execution_count": 46,
   "metadata": {},
   "outputs": [],
   "source": [
    "import numpy as np"
   ]
  },
  {
   "cell_type": "markdown",
   "metadata": {},
   "source": [
    "1. Установить, какие произведения матриц $AB$ и $BA$ определены, и найти размерности полученных матриц:\n",
    "\n",
    "а) $A$ — матрица $4\\times 2$, $B$ — матрица $4\\times 2$;\n",
    "\n",
    "    $AB$  - нет, из-за несоответствия количества строк и столбцов\n",
    "    $BA$  - нет, из-за несоответствия количества строк и столбцов\n",
    "\n",
    "б) $A$ — матрица $2\\times 5$, $B$ — матрица $5\\times 3$;\n",
    "\n",
    "    $AB$  - да, итоговая матрица 2х3\n",
    "    $BA$  - нет, из-за несоответствия количества строк и столбцов\n",
    "\n",
    "в) $A$ — матрица $8\\times 3$, $B$ — матрица $3\\times 8$;\n",
    "\n",
    "    $AB$  - да, итоговая матрица 8х8\n",
    "    $BA$  - да, итоговая матрица 3х3\n",
    "\n",
    "г) $A$ — квадратная матрица $4\\times 4$, $B$ — квадратная матрица $4\\times 4$.\n",
    "\n",
    "    $AB$  - да, итоговая матрица 4х4\n",
    "    $BA$  - да, итоговая матрица 4х4"
   ]
  },
  {
   "cell_type": "markdown",
   "metadata": {},
   "source": [
    "2. Найти сумму и произведение матриц $A=\\begin{pmatrix} 1 & -2\\\\ 3 & 0 \\end{pmatrix}$ и $B=\\begin{pmatrix} 4 & -1\\\\ 0 & 5 \\end{pmatrix}.$"
   ]
  },
  {
   "cell_type": "code",
   "execution_count": 12,
   "metadata": {},
   "outputs": [],
   "source": [
    "a = np.array([[1, -2],[3, 0]])\n",
    "b = np.array([[4, -1],[0, 5]])"
   ]
  },
  {
   "cell_type": "code",
   "execution_count": 10,
   "metadata": {},
   "outputs": [
    {
     "data": {
      "text/plain": [
       "array([[ 5, -3],\n",
       "       [ 3,  5]])"
      ]
     },
     "execution_count": 10,
     "metadata": {},
     "output_type": "execute_result"
    }
   ],
   "source": [
    "A_plus_B = np.array([[1+4, -2-1],[3+0,0+5]])\n",
    "A_plus_B"
   ]
  },
  {
   "cell_type": "code",
   "execution_count": 13,
   "metadata": {},
   "outputs": [
    {
     "data": {
      "text/plain": [
       "array([[ 5, -3],\n",
       "       [ 3,  5]])"
      ]
     },
     "execution_count": 13,
     "metadata": {},
     "output_type": "execute_result"
    }
   ],
   "source": [
    "a+b"
   ]
  },
  {
   "cell_type": "code",
   "execution_count": 11,
   "metadata": {},
   "outputs": [
    {
     "data": {
      "text/plain": [
       "array([[  4, -11],\n",
       "       [ 12,   2]])"
      ]
     },
     "execution_count": 11,
     "metadata": {},
     "output_type": "execute_result"
    }
   ],
   "source": [
    "A_multiply_B = np.array([[1*4+(-2)*0, 1*(-1)+(-2)*5],[3*4+0*0,3+(-1)+0*5]])\n",
    "A_multiply_B"
   ]
  },
  {
   "cell_type": "code",
   "execution_count": 14,
   "metadata": {
    "scrolled": true
   },
   "outputs": [
    {
     "data": {
      "text/plain": [
       "array([[  4, -11],\n",
       "       [ 12,  -3]])"
      ]
     },
     "execution_count": 14,
     "metadata": {},
     "output_type": "execute_result"
    }
   ],
   "source": [
    "a.dot(b)"
   ]
  },
  {
   "cell_type": "markdown",
   "metadata": {},
   "source": [
    "3. Из закономерностей сложения и умножения матриц на число можно сделать вывод, что матрицы одного размера образуют линейное пространство. Вычислить линейную комбинацию $3A-2B+4C$ для матриц $A=\\begin{pmatrix} 1 & 7\\\\ 3 & -6 \\end{pmatrix}$, $B=\\begin{pmatrix} 0 & 5\\\\ 2 & -1 \\end{pmatrix}$, $C=\\begin{pmatrix} 2 & -4\\\\ 1 & 1 \\end{pmatrix}.$"
   ]
  },
  {
   "cell_type": "code",
   "execution_count": 17,
   "metadata": {},
   "outputs": [
    {
     "data": {
      "text/plain": [
       "array([[ 11,  -5],\n",
       "       [  9, -12]])"
      ]
     },
     "execution_count": 17,
     "metadata": {},
     "output_type": "execute_result"
    }
   ],
   "source": [
    "a = np.array([[1,7],[3,-6]])\n",
    "b = np.array([[0,5],[2,-1]])\n",
    "c = np.array([[2,-4],[1,1]])\n",
    "_3a = np.array([[1*3,7*3],[3*3,-6*3]])\n",
    "_2b = np.array([[0*2,5*2],[2*2,-1*2]])\n",
    "_4c = np.array([[2*4,-4*4],[1*4,1*4]])\n",
    "res = np.array([[1*3-0*2+2*4,7*3-5*2+(-4)*4],[3*3-2*2+1*4,(-6)*3-(-1)*2+1*4]])\n",
    "res"
   ]
  },
  {
   "cell_type": "code",
   "execution_count": 18,
   "metadata": {},
   "outputs": [
    {
     "data": {
      "text/plain": [
       "array([[ 11,  -5],\n",
       "       [  9, -12]])"
      ]
     },
     "execution_count": 18,
     "metadata": {},
     "output_type": "execute_result"
    }
   ],
   "source": [
    "3*a-2*b+4*c"
   ]
  },
  {
   "cell_type": "markdown",
   "metadata": {},
   "source": [
    "4. Дана матрица $A=\\begin{pmatrix} 4 & 1\\\\ 5 & -2\\\\ 2 & 3 \\end{pmatrix}$. Вычислить $AA^{T}$ и $A^{T}A$.\n",
    "\n"
   ]
  },
  {
   "cell_type": "code",
   "execution_count": 21,
   "metadata": {},
   "outputs": [],
   "source": [
    "a = np.array([[4,1],[5,-2],[2,3]])\n",
    "a_T = np.array([[4,5,2],[1,-2,3]])"
   ]
  },
  {
   "cell_type": "code",
   "execution_count": 27,
   "metadata": {},
   "outputs": [
    {
     "name": "stdout",
     "output_type": "stream",
     "text": [
      "[[17 18 11]\n",
      " [18 29  4]\n",
      " [11  4 13]]\n"
     ]
    },
    {
     "data": {
      "text/plain": [
       "array([[17, 18, 11],\n",
       "       [18, 29,  4],\n",
       "       [11,  4, 13]])"
      ]
     },
     "execution_count": 27,
     "metadata": {},
     "output_type": "execute_result"
    }
   ],
   "source": [
    "A_AT = np.array([[4*4+1*1,4*5+1*(-2),4*2+1*3],[5*4+(-2)*1,5*5+(-2)*(-2),5*2+(-2)*3],[2*4+3*1,2*5+3*(-2),2*2+3*3]])\n",
    "print(a.dot(a.T))\n",
    "A_AT"
   ]
  },
  {
   "cell_type": "code",
   "execution_count": 30,
   "metadata": {},
   "outputs": [
    {
     "name": "stdout",
     "output_type": "stream",
     "text": [
      "[[45  0]\n",
      " [ 0 14]]\n"
     ]
    },
    {
     "data": {
      "text/plain": [
       "array([[45,  0],\n",
       "       [ 0, 14]])"
      ]
     },
     "execution_count": 30,
     "metadata": {},
     "output_type": "execute_result"
    }
   ],
   "source": [
    "AT_A = np.array([[4*4+5*5+2*2,4*1+5*(-2)+2*3],[1*4+(-2)*5+3*2,1*1+(-2)*(-2)+3*3]])\n",
    "print(a.T.dot(a))\n",
    "AT_A"
   ]
  },
  {
   "cell_type": "markdown",
   "metadata": {},
   "source": [
    "5*. Написать на Python функцию для перемножения двух произвольных матриц, не используя NumPy."
   ]
  },
  {
   "cell_type": "code",
   "execution_count": 106,
   "metadata": {},
   "outputs": [],
   "source": [
    "a = np.array([[4,1],[5,-2],[2,3]])\n",
    "b = np.array([[3,6,1],[2,-7,8]])"
   ]
  },
  {
   "cell_type": "code",
   "execution_count": 107,
   "metadata": {},
   "outputs": [
    {
     "data": {
      "text/plain": [
       "array([[ 4,  1],\n",
       "       [ 5, -2],\n",
       "       [ 2,  3]])"
      ]
     },
     "execution_count": 107,
     "metadata": {},
     "output_type": "execute_result"
    }
   ],
   "source": [
    "a"
   ]
  },
  {
   "cell_type": "code",
   "execution_count": 108,
   "metadata": {},
   "outputs": [
    {
     "data": {
      "text/plain": [
       "array([[ 3,  6,  1],\n",
       "       [ 2, -7,  8]])"
      ]
     },
     "execution_count": 108,
     "metadata": {},
     "output_type": "execute_result"
    }
   ],
   "source": [
    "b"
   ]
  },
  {
   "cell_type": "code",
   "execution_count": 110,
   "metadata": {},
   "outputs": [
    {
     "name": "stdout",
     "output_type": "stream",
     "text": [
      "[[ 14  17  12]\n",
      " [ 11  44 -11]\n",
      " [ 12  -9  26]]\n"
     ]
    }
   ],
   "source": [
    "a_m = len(a)\n",
    "a_n = len(a[0])\n",
    "b_n = len(b)\n",
    "b_k = len(b[0])\n",
    "c = []\n",
    "if a_n == b_n:\n",
    "    for a_index, a_value in enumerate(a):\n",
    "        c_i = []\n",
    "        for b_i_index, b_value in enumerate(a):\n",
    "            c_i_j = 0\n",
    "            for b_j_index, b_value in enumerate(b):\n",
    "                a_i_j = a[a_index,b_j_index]\n",
    "                b_i_j = b[b_j_index,b_i_index]\n",
    "                c_i_j += a_i_j*b_i_j\n",
    "            c_i.append(c_i_j)\n",
    "        c.append(c_i)\n",
    "    print(np.array(c))\n",
    "else:\n",
    "    print('Произведение матриц не определено')"
   ]
  },
  {
   "cell_type": "code",
   "execution_count": 112,
   "metadata": {},
   "outputs": [
    {
     "name": "stdout",
     "output_type": "stream",
     "text": [
      "[[ 14  17  12]\n",
      " [ 11  44 -11]\n",
      " [ 12  -9  26]]\n"
     ]
    }
   ],
   "source": [
    "print(a.dot(b))"
   ]
  }
 ],
 "metadata": {
  "kernelspec": {
   "display_name": "Python 3",
   "language": "python",
   "name": "python3"
  },
  "language_info": {
   "codemirror_mode": {
    "name": "ipython",
    "version": 3
   },
   "file_extension": ".py",
   "mimetype": "text/x-python",
   "name": "python",
   "nbconvert_exporter": "python",
   "pygments_lexer": "ipython3",
   "version": "3.7.3"
  }
 },
 "nbformat": 4,
 "nbformat_minor": 2
}
