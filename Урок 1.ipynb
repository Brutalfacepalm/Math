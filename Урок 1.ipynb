{
 "cells": [
  {
   "cell_type": "code",
   "execution_count": 35,
   "metadata": {},
   "outputs": [],
   "source": [
    "import itertools\n",
    "import sympy as sp\n",
    "import numpy as np"
   ]
  },
  {
   "cell_type": "code",
   "execution_count": 34,
   "metadata": {},
   "outputs": [
    {
     "name": "stdout",
     "output_type": "stream",
     "text": [
      "set()\n",
      "{20, 40, 10, 30}\n",
      "{10}\n",
      "{40, 20, 30}\n",
      "{10, 20, 30}\n",
      "{20, 30}\n",
      "set()\n",
      "{10}\n",
      "set()\n",
      "{40}\n",
      "{40}\n",
      "{40, 10}\n",
      "(10, 20, 40) (10, 20, 30) (10, 30, 40) (10, 30, 30) (20, 20, 40) (20, 20, 30) (20, 30, 40) (20, 30, 30)\n"
     ]
    }
   ],
   "source": [
    "a={10,20}\n",
    "b={20,30}\n",
    "c={30,40}\n",
    "\n",
    "print(a & b & c)\n",
    "print(a | b | c)\n",
    "print(a - b - c)\n",
    "print(a & b | c)\n",
    "print(a | b & c)\n",
    "print(a & c | b)\n",
    "print(b - a - c)\n",
    "print(a - c - b)\n",
    "print(b - c - a)\n",
    "print(c - a - b)\n",
    "print(c - b - a)\n",
    "\n",
    "print(c ^ b ^ a)\n",
    "print(*itertools.product(a,b,c))"
   ]
  },
  {
   "cell_type": "code",
   "execution_count": 97,
   "metadata": {},
   "outputs": [],
   "source": [
    "e = 10**(-7)"
   ]
  },
  {
   "cell_type": "code",
   "execution_count": 98,
   "metadata": {},
   "outputs": [
    {
     "name": "stdout",
     "output_type": "stream",
     "text": [
      "2.71698832372746\n",
      "11778\n",
      "Wall time: 34.3 s\n"
     ]
    }
   ],
   "source": [
    "%%time\n",
    "def  A(n):\n",
    "    return n/(sp.factorial(n)**(1/n))\n",
    "\n",
    "\n",
    "n = 1\n",
    "while True:\n",
    "    lim = A(n+1) - A(n)\n",
    "    if lim < e:\n",
    "        print(A(n))\n",
    "        print(n)\n",
    "        break\n",
    "    n+=1"
   ]
  },
  {
   "cell_type": "code",
   "execution_count": 99,
   "metadata": {},
   "outputs": [
    {
     "name": "stdout",
     "output_type": "stream",
     "text": [
      "2.716988325359623\n",
      "11778\n",
      "Wall time: 50.1 ms\n"
     ]
    }
   ],
   "source": [
    "%%time\n",
    "def  A_fast(n):\n",
    "    return np.e/(np.sqrt(2*np.pi*n))**(1/n)\n",
    "    \n",
    "\n",
    "n = 1\n",
    "while True:\n",
    "    lim_fast = A_fast(n+1) - A_fast(n)\n",
    "    if abs(lim_fast) < e:\n",
    "        print(A_fast(n))\n",
    "        print(n)\n",
    "        break\n",
    "    n+=1"
   ]
  }
 ],
 "metadata": {
  "kernelspec": {
   "display_name": "Python 3",
   "language": "python",
   "name": "python3"
  },
  "language_info": {
   "codemirror_mode": {
    "name": "ipython",
    "version": 3
   },
   "file_extension": ".py",
   "mimetype": "text/x-python",
   "name": "python",
   "nbconvert_exporter": "python",
   "pygments_lexer": "ipython3",
   "version": "3.7.3"
  }
 },
 "nbformat": 4,
 "nbformat_minor": 2
}
