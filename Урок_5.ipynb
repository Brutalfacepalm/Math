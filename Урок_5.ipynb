{
 "cells": [
  {
   "cell_type": "code",
   "execution_count": 674,
   "metadata": {},
   "outputs": [],
   "source": [
    "%matplotlib inline\n",
    "import matplotlib.pyplot as plt\n",
    "import numpy as np\n",
    "import warnings\n",
    "warnings.filterwarnings(\"ignore\")"
   ]
  },
  {
   "cell_type": "markdown",
   "metadata": {},
   "source": [
    "1. Напишите код, моделирующий выпадение поля в рулетке (с учетом поля зеро).\n"
   ]
  },
  {
   "cell_type": "code",
   "execution_count": 571,
   "metadata": {},
   "outputs": [
    {
     "name": "stdout",
     "output_type": "stream",
     "text": [
      "Выпало число 10\n"
     ]
    }
   ],
   "source": [
    "sections = np.linspace(1/37,1,37)\n",
    "\n",
    "drop = np.random.uniform(0,1)\n",
    "for i in range(38):\n",
    "    if drop <= sections[i]:\n",
    "        print(f'Выпало число {i}')\n",
    "        break\n",
    "    "
   ]
  },
  {
   "cell_type": "markdown",
   "metadata": {},
   "source": [
    "2. \n",
    "Напишите код, проверяющий любую из теорем сложения или умножения вероятности на примере рулетки или подбрасывания монетки."
   ]
  },
  {
   "cell_type": "code",
   "execution_count": 574,
   "metadata": {},
   "outputs": [
    {
     "name": "stdout",
     "output_type": "stream",
     "text": [
      "0.05405405405405406 0.054085\n"
     ]
    }
   ],
   "source": [
    "v1 = 1/37 + 1/37\n",
    "v2 = 0\n",
    "\n",
    "n1 = 0\n",
    "n2 = 1\n",
    "\n",
    "N = 1000000\n",
    "for r in range(N):\n",
    "    drop = np.random.uniform(0,1)\n",
    "    for i in range(38):\n",
    "        if drop <= sections[i]:\n",
    "            if i == n1 or i == n2:\n",
    "                v2+=1\n",
    "            break\n",
    "v2 = v2/N\n",
    "print(v1, v2)"
   ]
  },
  {
   "cell_type": "markdown",
   "metadata": {},
   "source": [
    "Сгенерируйте десять выборок случайных чисел х0, …, х9.\n",
    "и постройте гистограмму распределения случайной суммы х0+х1+ …+ х9."
   ]
  },
  {
   "cell_type": "code",
   "execution_count": 609,
   "metadata": {},
   "outputs": [
    {
     "data": {
      "image/png": "[encoded data removed]",
      "text/plain": [
       "<Figure size 432x288 with 1 Axes>"
      ]
     },
     "metadata": {
      "needs_background": "light"
     },
     "output_type": "display_data"
    }
   ],
   "source": [
    "s = np.array([np.sum(np.array(np.random.rand(10))) for _ in range(11)])\n",
    "\n",
    "n, bins, patches = plt.hist(s, 5)"
   ]
  },
  {
   "cell_type": "markdown",
   "metadata": {},
   "source": [
    "3.\n",
    "Дополните код Монте-Карло последовательности независимых испытаний расчетом соответствующих вероятностей (через биномиальное распределение) \n",
    "и сравните результаты."
   ]
  },
  {
   "cell_type": "code",
   "execution_count": 648,
   "metadata": {},
   "outputs": [
    {
     "name": "stdout",
     "output_type": "stream",
     "text": [
      "37498 100000 0.37498\n",
      "Вероятность по формуле Бернулли равна 0.375\n"
     ]
    }
   ],
   "source": [
    "k, n = 0, 100000\n",
    "a = np.random.randint(0, 2, n)\n",
    "b = np.random.randint(0, 2, n)\n",
    "c = np.random.randint(0, 2, n)\n",
    "d = np.random.randint(0, 2, n)\n",
    "\n",
    "x = a+b+c+d\n",
    "\n",
    "for i in range(0, n):\n",
    "    if x[i]==2:\n",
    "        k+=1\n",
    "        \n",
    "def fctrl(n):\n",
    "    return np.math.factorial(n)\n",
    "\n",
    "cnk = fctrl(4)/(fctrl(2)*fctrl(4-2))\n",
    "pn = 0.5\n",
    "pk = 0.5\n",
    "\n",
    "p=cnk*pn**2*pk**2\n",
    "        \n",
    "print(k,n, k/n)\n",
    "print(f'Вероятность по формуле Бернулли равна {p}')"
   ]
  },
  {
   "cell_type": "markdown",
   "metadata": {},
   "source": [
    "Повторите расчеты биномиальных коэффициентов и вероятностей k успехов в последовательности из n независимых испытаний, взяв другие значения n и k."
   ]
  },
  {
   "cell_type": "code",
   "execution_count": 653,
   "metadata": {},
   "outputs": [
    {
     "name": "stdout",
     "output_type": "stream",
     "text": [
      "Вероятность по формуле Бернулли при общем количестве повторений n = 5 и количестве \"успехов\" k = 3 равна 0.3125\n",
      "Вероятность по формуле Бернулли при общем количестве повторений n = 10 и количестве \"успехов\" k = 10 равна 0.0009765625\n",
      "Вероятность по формуле Бернулли при общем количестве повторений n = 50 и количестве \"успехов\" k = 25 равна 0.11227517265921705\n",
      "Вероятность по формуле Бернулли при общем количестве повторений n = 100 и количестве \"успехов\" k = 5 равна 5.939138117904503e-23\n"
     ]
    }
   ],
   "source": [
    "n = [5, 10, 50, 100]\n",
    "k = [3, 10, 25, 5]\n",
    "pn = 0.5\n",
    "pk = 0.5\n",
    "\n",
    "def fctrl(n):\n",
    "    return np.math.factorial(n)\n",
    "\n",
    "for i in range(len(k)):\n",
    "    \n",
    "    cnk = fctrl(n[i])/(fctrl(k[i])*fctrl(n[i]-k[i]))\n",
    "    p=cnk*pk**k[i]*pn**(n[i]-k[i])\n",
    "    print(f'Вероятность по формуле Бернулли при общем количестве повторений n = {n[i]} и количестве \"успехов\" k = {k[i]} равна {p}')"
   ]
  },
  {
   "cell_type": "markdown",
   "metadata": {},
   "source": [
    " Из урока по комбинаторике повторите расчеты, сгенерировав возможные варианты перестановок для других значений n и k\n"
   ]
  },
  {
   "cell_type": "code",
   "execution_count": 666,
   "metadata": {},
   "outputs": [
    {
     "name": "stdout",
     "output_type": "stream",
     "text": [
      "Количество перестановок для n = 8, k = 8 равно - 40320\n",
      "Количество размещений для n = 8, k = 3 равно - 336\n",
      "Количество сочетаний для n = 8, k = 3 равно - 56\n"
     ]
    }
   ],
   "source": [
    "n = 8\n",
    "k = 3\n",
    "Ann = fctrl(n)\n",
    "Ank = fctrl(n)/(fctrl(n-k))\n",
    "Cnk = fctrl(n)/(fctrl(k)*fctrl(n-k))\n",
    "print(f'Количество перестановок для n = {n}, k = {n} равно - {Ann}')\n",
    "print(f'Количество размещений для n = {n}, k = {k} равно - {int(Ank)}')\n",
    "print(f'Количество сочетаний для n = {n}, k = {k} равно - {int(Cnk)}')"
   ]
  },
  {
   "cell_type": "markdown",
   "metadata": {},
   "source": [
    "5."
   ]
  },
  {
   "cell_type": "code",
   "execution_count": 692,
   "metadata": {},
   "outputs": [
    {
     "name": "stdout",
     "output_type": "stream",
     "text": [
      "0.7167784156449777 0.14379921016441805\n"
     ]
    },
    {
     "data": {
      "image/png": "[encoded data removed]",
      "text/plain": [
       "<Figure size 432x288 with 1 Axes>"
      ]
     },
     "metadata": {
      "needs_background": "light"
     },
     "output_type": "display_data"
    },
    {
     "name": "stdout",
     "output_type": "stream",
     "text": [
      "0.9280173601726014\n",
      "0.9280173601726007\n"
     ]
    }
   ],
   "source": [
    "n = 100\n",
    "r = 0.7\n",
    "x = np.random.rand(n)\n",
    "y = r*x + (1-r)*np.random.rand(n)\n",
    "plt.plot(x,y, 'o')\n",
    "plt.xlabel('x')\n",
    "plt.ylabel('y')\n",
    "plt.grid(True)\n",
    "\n",
    "A = np.vstack([x, np.ones(len(x))]).T\n",
    "a1, b1 = np.linalg.lstsq(A, y)[0]\n",
    "print(a1, b1)\n",
    "\n",
    "xm = np.array([0, 1])\n",
    "ym = a1*xm + b1\n",
    "plt.plot(xm, ym)\n",
    "plt.show()\n",
    "c = np.corrcoef(x, y)\n",
    "print(c[0][1])\n",
    "\n",
    "xi = x\n",
    "xm = np.sum(x)/len(x)\n",
    "yi = y\n",
    "ym = np.sum(y)/len(y)\n",
    "\n",
    "c1 = np.sum((xi-xm)*(yi-ym))/np.sqrt(np.sum((xi-xm)**2)*np.sum((yi-ym)**2))\n",
    "print(c1)\n"
   ]
  }
 ],
 "metadata": {
  "kernelspec": {
   "display_name": "Python 3",
   "language": "python",
   "name": "python3"
  },
  "language_info": {
   "codemirror_mode": {
    "name": "ipython",
    "version": 3
   },
   "file_extension": ".py",
   "mimetype": "text/x-python",
   "name": "python",
   "nbconvert_exporter": "python",
   "pygments_lexer": "ipython3",
   "version": "3.7.3"
  }
 },
 "nbformat": 4,
 "nbformat_minor": 2
}
